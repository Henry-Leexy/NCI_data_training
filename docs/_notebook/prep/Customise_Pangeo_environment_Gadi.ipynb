{
 "cells": [
  {
   "cell_type": "markdown",
   "metadata": {},
   "source": [
    "\n",
    "# Customise Pangeo Environment on Gadi\n",
    "\n",
    "\n",
    "In this notebook we demonstrate how to\n",
    "\n",
    "- load additional modules \n",
    "- install packages not available on Gadi"
   ]
  },
  {
   "cell_type": "markdown",
   "metadata": {},
   "source": [
    "Existing software list available on Gadi is [here](https://opus.nci.org.au/x/6YT_Ag). Users may need to load additional modules to run their own workflows. If a particular package is not\n",
    "available on Gadi, users can install it under their own working directory, e.g., their computer project space if it is allowed. Please note, the Pangeo environment should always be loaded **<span style=\"color:red\">before</span>** adding other modules or installing new modules."
   ]
  },
  {
   "cell_type": "markdown",
   "metadata": {},
   "source": [
    "###  Step 1: Enable Pangeo in your shell envorinment"
   ]
  },
  {
   "cell_type": "markdown",
   "metadata": {},
   "source": [
    "To enable the Pangeo environment, you can use the following command within jobs, or within an interactive environment:\n",
    "\n",
    "```\n",
    "$ module load pangeo\n",
    "Loading pangeo/2020.05\n",
    "  Loading requirement: intel-mkl/2019.3.199 python3/3.7.4 hdf5/1.10.5\n",
    "    netcdf/4.7.3\n",
    "\n",
    "```\n",
    "Note that Pangeo has its own Python installation.\n"
   ]
  },
  {
   "cell_type": "markdown",
   "metadata": {},
   "source": [
    "###  Step 2: Check if a module is available on Gadi"
   ]
  },
  {
   "cell_type": "markdown",
   "metadata": {},
   "source": [
    "Lets see if **tensorflow** is available on Gadi.\n",
    "\n",
    "```\n",
    "[abc123@gadi-login-01 ~]$ module avail tensorflow\n",
    "\n",
    "-----------------------/apps/Modules/modulefiles-----------------------\n",
    "tensorflow/2.0.0\n",
    "\n",
    "```"
   ]
  },
  {
   "cell_type": "markdown",
   "metadata": {},
   "source": [
    "###  Step 3a: Load modules if they are available on Gadi"
   ]
  },
  {
   "cell_type": "markdown",
   "metadata": {},
   "source": [
    "If the module exists, it will list all the versions available. Pick the one that you would like to use:\n",
    "\n",
    "```\n",
    "[abc123@gadi-login-01 ~]$ module load tensorflow/2.0.0\n",
    "```\n",
    "\n",
    "Check if the module has loaded properly:\n",
    "\n",
    "```\n",
    "[abc123@gadi-login-01 ~]$ module list\n",
    "\n",
    "Currently loaded Module files:\n",
    " 1) pbs                    5) netcdf/4.7.3           9) nccl/2.5.6-1+cuda10.1  \n",
    " 2) intel-mkl/2019.3.199   6) pangeo/2020.05        10) openmpi/4.0.1          \n",
    " 3) python3/3.7.4          7) cuda/10.1             11) tensorflow/2.0.0       \n",
    " 4) hdf5/1.10.5            8) cudnn/7.6.5-cuda10.1  \n",
    "```"
   ]
  },
  {
   "cell_type": "markdown",
   "metadata": {},
   "source": [
    "###  Step 3b: Install modules if they are NOT available on Gadi"
   ]
  },
  {
   "cell_type": "markdown",
   "metadata": {},
   "source": [
    "Lets try the **Deep Graph Library** to see if it is available on Gadi. We can list all modules that start with the letter **d**:\n",
    "\n",
    "```\n",
    "[abc123@gadi-login-01 ~]$ module avail d\n",
    "\n",
    "-----------------------/apps/Modules/modulefiles-----------------------\n",
    "dalton/2018.2   dftbplus/19.1    dmo13/2018\n",
    "\n",
    "```\n",
    "We can see that the **Deep Graph Library** is not available as a module on Gadi and therefore we will need to install it ourselves.\n",
    "\n",
    "\n"
   ]
  },
  {
   "cell_type": "markdown",
   "metadata": {},
   "source": [
    "There are multiple ways to install Python packages. For example, you could use the **pip** package manager which is a de facto standard package-management system used to install and manage software packages written in Python (see instruction here: https://packaging.python.org/tutorials/installing-packages/#installing-to-the-user-site ). Another popular way to install packages is through [Conda](https://docs.conda.io/en/latest/) which is an open source package, dependency and environment management system for any language - Python, R, Ruby, Jua, Scala, Java, JavaScript, C/C++, FORTRAN and many more.\n",
    "\n",
    "\n",
    "Please note: Additional packages should be installed within a user's own directory"
   ]
  },
  {
   "cell_type": "markdown",
   "metadata": {},
   "source": [
    "As an example, you can use pip to install a package by running:\n",
    "\n",
    "```\n",
    "$ pip install --user <package name>\n",
    "\n",
    "```\n",
    "\n",
    "Let's now install the **Deep Graph Library** using pip:\n",
    "\n",
    "```\n",
    "[abc123@gadi-login-01 ~]$ pip install --user deepgraph\n",
    "\n",
    "Collecting deepgraph\n",
    "  Using cached https://files.pythonhosted.org/packages/fc/3e/4a34a5316a5f886b8d7a6787c24852d9e5a5ef00b4ec6af0736f681a3a58/DeepGraph-0.2.2.tar.gz\n",
    "Requirement already satisfied: numpy>=1.6 in /apps/python3/3.7.4/lib/python3.7/site-packages/numpy-1.17.2-py3.7-linux-x86_64.egg (from deepgraph) (1.17.2)\n",
    "Requirement already satisfied: pandas>=0.17.0 in /apps/pangeo/2019.12/lib/python3.7/site-packages (from deepgraph) (0.25.3)\n",
    "Requirement already satisfied: pytz>=2017.2 in /apps/pangeo/2019.12/lib/python3.7/site-packages (from pandas>=0.17.0->deepgraph) (2019.3)\n",
    "Requirement already satisfied: python-dateutil>=2.6.1 in /apps/python3/3.7.4/lib/python3.7/site-packages (from pandas>=0.17.0->deepgraph) (2.8.1)\n",
    "Requirement already satisfied: six>=1.5 in /apps/python3/3.7.4/lib/python3.7/site-packages (from python-dateutil>=2.6.1->pandas>=0.17.0->deepgraph) (1.13.0)\n",
    "Building wheels for collected packages: deepgraph\n",
    "  Building wheel for deepgraph (setup.py) ... done\n",
    "  Created wheel for deepgraph: filename=DeepGraph-0.2.2-cp37-cp37m-linux_x86_64.whl size=373893 sha256=53e6966cdd833e99af226dd925f9d9f1a10259053cd13f4391caa356bbfedabb\n",
    "  Stored in directory: /home/900/nre900/.cache/pip/wheels/7f/4b/45/caf95420067f7a1795c5664bce0beda747d0ce931c2424c5ff\n",
    "Successfully built deepgraph\n",
    "Installing collected packages: deepgraph\n",
    "Successfully installed deepgraph-0.2.2\n",
    "\n",
    "```"
   ]
  },
  {
   "cell_type": "markdown",
   "metadata": {},
   "source": [
    "### Step 4: Validate new installation \n"
   ]
  },
  {
   "cell_type": "markdown",
   "metadata": {},
   "source": [
    "```\n",
    "[abc123@gadi-login-01 ~]$ python\n",
    "\n",
    "Python 3.7.4 (default, Nov  6 2019, 12:34:08) \n",
    "[GCC 8.2.1 20180905 (Red Hat 8.2.1-3)] on linux\n",
    "Type \"help\", \"copyright\", \"credits\" or \"license\" for more information.\n",
    "\n",
    ">>> import deepgraph\n",
    ">>> exit()\n",
    "```"
   ]
  },
  {
   "cell_type": "markdown",
   "metadata": {},
   "source": [
    "### Step 5: Add path into your job script"
   ]
  },
  {
   "cell_type": "markdown",
   "metadata": {},
   "source": [
    "If you want to use the program installed in your own space, you can add `export` into your login bash file:\n",
    "\n",
    "export PYTHONPATH=<`path to where you installed your own software`>:$PYTHONPATH\n",
    "\n",
    "You can also add into your job script run_ipynb_job.sh as below. Please replace the path to your own working space where you insalled the software.\n",
    "\n",
    "```\n",
    "#!/bin/bash\n",
    "#PBS -N pangeo_test\n",
    "#PBS -P c25\n",
    "#PBS -q normal\n",
    "#PBS -l walltime=5:00:00\n",
    "#PBS -l ncpus=96\n",
    "#PBS -l mem=384GB\n",
    "#PBS -l jobfs=100GB\n",
    "#PBS -l storage=scratch/z00+scratch/c25+gdata/c25\n",
    "module load pangeo\n",
    "export PYTHONPATH=/g/data/c25/apps:$PYTHONPATH\n",
    "pangeo.ini.all.sh\n",
    "sleep infinity\n",
    "```"
   ]
  }
 ],
 "metadata": {
  "kernelspec": {
   "display_name": "Python 3",
   "language": "python",
   "name": "python3"
  },
  "language_info": {
   "codemirror_mode": {
    "name": "ipython",
    "version": 3
   },
   "file_extension": ".py",
   "mimetype": "text/x-python",
   "name": "python",
   "nbconvert_exporter": "python",
   "pygments_lexer": "ipython3",
   "version": "3.7.3"
  }
 },
 "nbformat": 4,
 "nbformat_minor": 2
}
